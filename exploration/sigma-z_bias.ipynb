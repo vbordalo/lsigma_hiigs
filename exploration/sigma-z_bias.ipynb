{
 "cells": [
  {
   "cell_type": "code",
   "execution_count": 1,
   "id": "f9760f66",
   "metadata": {},
   "outputs": [],
   "source": [
    "import pandas as pd\n",
    "import numpy as np\n",
    "import math\n",
    "import matplotlib.pyplot as plt\n",
    "%matplotlib inline"
   ]
  },
  {
   "cell_type": "markdown",
   "id": "271e36a5",
   "metadata": {},
   "source": [
    "# Read BT11 and Chavez14"
   ]
  },
  {
   "cell_type": "code",
   "execution_count": 2,
   "id": "993fcffe",
   "metadata": {},
   "outputs": [],
   "source": [
    "# dataset available here: https://cdsarc.unistra.fr/viz-bin/cat/J/A+A/599/A76\n",
    "mel17 = pd.concat([pd.read_csv('../data/cha14.csv'),\n",
    "                   pd.read_csv('../data/bor11.csv')])"
   ]
  },
  {
   "cell_type": "code",
   "execution_count": 3,
   "id": "f82a9fca",
   "metadata": {},
   "outputs": [
    {
     "data": {
      "text/html": [
       "<div>\n",
       "<style scoped>\n",
       "    .dataframe tbody tr th:only-of-type {\n",
       "        vertical-align: middle;\n",
       "    }\n",
       "\n",
       "    .dataframe tbody tr th {\n",
       "        vertical-align: top;\n",
       "    }\n",
       "\n",
       "    .dataframe thead th {\n",
       "        text-align: right;\n",
       "    }\n",
       "</style>\n",
       "<table border=\"1\" class=\"dataframe\">\n",
       "  <thead>\n",
       "    <tr style=\"text-align: right;\">\n",
       "      <th></th>\n",
       "      <th>name</th>\n",
       "      <th>z</th>\n",
       "      <th>sig_5007</th>\n",
       "      <th>er_sig_5007</th>\n",
       "      <th>logLHb</th>\n",
       "      <th>er_logLHb</th>\n",
       "      <th>ewhb</th>\n",
       "      <th>er_ewhb</th>\n",
       "    </tr>\n",
       "  </thead>\n",
       "  <tbody>\n",
       "    <tr>\n",
       "      <th>0</th>\n",
       "      <td>J000657</td>\n",
       "      <td>0.0737</td>\n",
       "      <td>44.8</td>\n",
       "      <td>0.43</td>\n",
       "      <td>41.30</td>\n",
       "      <td>0.01</td>\n",
       "      <td>86.5</td>\n",
       "      <td>2.1</td>\n",
       "    </tr>\n",
       "    <tr>\n",
       "      <th>1</th>\n",
       "      <td>J001647</td>\n",
       "      <td>0.0232</td>\n",
       "      <td>21.3</td>\n",
       "      <td>0.89</td>\n",
       "      <td>40.88</td>\n",
       "      <td>0.01</td>\n",
       "      <td>56.9</td>\n",
       "      <td>0.7</td>\n",
       "    </tr>\n",
       "    <tr>\n",
       "      <th>2</th>\n",
       "      <td>J002339</td>\n",
       "      <td>0.0531</td>\n",
       "      <td>30.5</td>\n",
       "      <td>0.62</td>\n",
       "      <td>41.32</td>\n",
       "      <td>0.01</td>\n",
       "      <td>110.1</td>\n",
       "      <td>1.3</td>\n",
       "    </tr>\n",
       "    <tr>\n",
       "      <th>3</th>\n",
       "      <td>J002425</td>\n",
       "      <td>0.0142</td>\n",
       "      <td>34.9</td>\n",
       "      <td>0.54</td>\n",
       "      <td>40.31</td>\n",
       "      <td>0.01</td>\n",
       "      <td>61.6</td>\n",
       "      <td>0.8</td>\n",
       "    </tr>\n",
       "    <tr>\n",
       "      <th>4</th>\n",
       "      <td>J003218</td>\n",
       "      <td>0.0180</td>\n",
       "      <td>38.6</td>\n",
       "      <td>0.49</td>\n",
       "      <td>40.34</td>\n",
       "      <td>0.01</td>\n",
       "      <td>80.0</td>\n",
       "      <td>0.9</td>\n",
       "    </tr>\n",
       "  </tbody>\n",
       "</table>\n",
       "</div>"
      ],
      "text/plain": [
       "      name       z  sig_5007  er_sig_5007  logLHb  er_logLHb   ewhb  er_ewhb\n",
       "0  J000657  0.0737      44.8         0.43   41.30       0.01   86.5      2.1\n",
       "1  J001647  0.0232      21.3         0.89   40.88       0.01   56.9      0.7\n",
       "2  J002339  0.0531      30.5         0.62   41.32       0.01  110.1      1.3\n",
       "3  J002425  0.0142      34.9         0.54   40.31       0.01   61.6      0.8\n",
       "4  J003218  0.0180      38.6         0.49   40.34       0.01   80.0      0.9"
      ]
     },
     "execution_count": 3,
     "metadata": {},
     "output_type": "execute_result"
    }
   ],
   "source": [
    "mel17.head()"
   ]
  },
  {
   "cell_type": "code",
   "execution_count": 4,
   "id": "27af4311",
   "metadata": {},
   "outputs": [
    {
     "data": {
      "text/plain": [
       "(132, 8)"
      ]
     },
     "execution_count": 4,
     "metadata": {},
     "output_type": "execute_result"
    }
   ],
   "source": [
    "mel17.shape"
   ]
  },
  {
   "cell_type": "code",
   "execution_count": 5,
   "id": "29e002ca",
   "metadata": {},
   "outputs": [
    {
     "data": {
      "image/png": "[encoded data removed]",
      "text/plain": [
       "<Figure size 432x288 with 1 Axes>"
      ]
     },
     "metadata": {
      "needs_background": "light"
     },
     "output_type": "display_data"
    }
   ],
   "source": [
    "plt.hist(mel17.z, bins=20)\n",
    "plt.show()"
   ]
  },
  {
   "cell_type": "code",
   "execution_count": 6,
   "id": "bc0ebf72",
   "metadata": {},
   "outputs": [
    {
     "data": {
      "image/png": "[encoded data removed]",
      "text/plain": [
       "<Figure size 432x288 with 1 Axes>"
      ]
     },
     "metadata": {
      "needs_background": "light"
     },
     "output_type": "display_data"
    }
   ],
   "source": [
    "plt.scatter(mel17.sig_5007, mel17.z)\n",
    "plt.xlabel(r'$\\sigma$' '[OIII]')\n",
    "plt.ylabel('z')\n",
    "plt.show()"
   ]
  },
  {
   "cell_type": "markdown",
   "id": "3f34bdaf",
   "metadata": {},
   "source": [
    "The sample $\\sigma-z$ bias was observed in Bordalo (2009) for the full sample of HIIGs (120 objects):\n",
    "<img src=\"../data/ls118z.png\" width=\"45%\">"
   ]
  },
  {
   "cell_type": "markdown",
   "id": "2dbd0d40",
   "metadata": {},
   "source": [
    "# Create a categorical variable for the redshift bins"
   ]
  },
  {
   "cell_type": "code",
   "execution_count": 7,
   "id": "5f5742f3",
   "metadata": {},
   "outputs": [],
   "source": [
    "labels = []\n",
    "bins = 3\n",
    "for i in range(bins):\n",
    "    labels.append('z'+str(i+1))\n",
    "\n",
    "#create a new column for the z bin\n",
    "mel17['z_bin'] = pd.cut(mel17['z'], bins=bins, labels=labels)"
   ]
  },
  {
   "cell_type": "code",
   "execution_count": 8,
   "id": "22ea12e1",
   "metadata": {},
   "outputs": [
    {
     "data": {
      "text/html": [
       "<div>\n",
       "<style scoped>\n",
       "    .dataframe tbody tr th:only-of-type {\n",
       "        vertical-align: middle;\n",
       "    }\n",
       "\n",
       "    .dataframe tbody tr th {\n",
       "        vertical-align: top;\n",
       "    }\n",
       "\n",
       "    .dataframe thead th {\n",
       "        text-align: right;\n",
       "    }\n",
       "</style>\n",
       "<table border=\"1\" class=\"dataframe\">\n",
       "  <thead>\n",
       "    <tr style=\"text-align: right;\">\n",
       "      <th></th>\n",
       "      <th>name</th>\n",
       "      <th>z</th>\n",
       "      <th>sig_5007</th>\n",
       "      <th>er_sig_5007</th>\n",
       "      <th>logLHb</th>\n",
       "      <th>er_logLHb</th>\n",
       "      <th>ewhb</th>\n",
       "      <th>er_ewhb</th>\n",
       "      <th>z_bin</th>\n",
       "    </tr>\n",
       "  </thead>\n",
       "  <tbody>\n",
       "    <tr>\n",
       "      <th>0</th>\n",
       "      <td>J000657</td>\n",
       "      <td>0.0737</td>\n",
       "      <td>44.8</td>\n",
       "      <td>0.43</td>\n",
       "      <td>41.30</td>\n",
       "      <td>0.01</td>\n",
       "      <td>86.5</td>\n",
       "      <td>2.1</td>\n",
       "      <td>z2</td>\n",
       "    </tr>\n",
       "    <tr>\n",
       "      <th>1</th>\n",
       "      <td>J001647</td>\n",
       "      <td>0.0232</td>\n",
       "      <td>21.3</td>\n",
       "      <td>0.89</td>\n",
       "      <td>40.88</td>\n",
       "      <td>0.01</td>\n",
       "      <td>56.9</td>\n",
       "      <td>0.7</td>\n",
       "      <td>z1</td>\n",
       "    </tr>\n",
       "    <tr>\n",
       "      <th>2</th>\n",
       "      <td>J002339</td>\n",
       "      <td>0.0531</td>\n",
       "      <td>30.5</td>\n",
       "      <td>0.62</td>\n",
       "      <td>41.32</td>\n",
       "      <td>0.01</td>\n",
       "      <td>110.1</td>\n",
       "      <td>1.3</td>\n",
       "      <td>z1</td>\n",
       "    </tr>\n",
       "    <tr>\n",
       "      <th>3</th>\n",
       "      <td>J002425</td>\n",
       "      <td>0.0142</td>\n",
       "      <td>34.9</td>\n",
       "      <td>0.54</td>\n",
       "      <td>40.31</td>\n",
       "      <td>0.01</td>\n",
       "      <td>61.6</td>\n",
       "      <td>0.8</td>\n",
       "      <td>z1</td>\n",
       "    </tr>\n",
       "    <tr>\n",
       "      <th>4</th>\n",
       "      <td>J003218</td>\n",
       "      <td>0.0180</td>\n",
       "      <td>38.6</td>\n",
       "      <td>0.49</td>\n",
       "      <td>40.34</td>\n",
       "      <td>0.01</td>\n",
       "      <td>80.0</td>\n",
       "      <td>0.9</td>\n",
       "      <td>z1</td>\n",
       "    </tr>\n",
       "  </tbody>\n",
       "</table>\n",
       "</div>"
      ],
      "text/plain": [
       "      name       z  sig_5007  er_sig_5007  logLHb  er_logLHb   ewhb  er_ewhb  \\\n",
       "0  J000657  0.0737      44.8         0.43   41.30       0.01   86.5      2.1   \n",
       "1  J001647  0.0232      21.3         0.89   40.88       0.01   56.9      0.7   \n",
       "2  J002339  0.0531      30.5         0.62   41.32       0.01  110.1      1.3   \n",
       "3  J002425  0.0142      34.9         0.54   40.31       0.01   61.6      0.8   \n",
       "4  J003218  0.0180      38.6         0.49   40.34       0.01   80.0      0.9   \n",
       "\n",
       "  z_bin  \n",
       "0    z2  \n",
       "1    z1  \n",
       "2    z1  \n",
       "3    z1  \n",
       "4    z1  "
      ]
     },
     "execution_count": 8,
     "metadata": {},
     "output_type": "execute_result"
    }
   ],
   "source": [
    "mel17.head()"
   ]
  },
  {
   "cell_type": "markdown",
   "id": "80ed8554",
   "metadata": {},
   "source": [
    "# Undersampling to remove $\\sigma-Z$ bias"
   ]
  },
  {
   "cell_type": "code",
   "execution_count": 9,
   "id": "e38a4766",
   "metadata": {},
   "outputs": [],
   "source": [
    "import imblearn\n",
    "from imblearn.under_sampling import RandomUnderSampler\n",
    "from collections import Counter"
   ]
  },
  {
   "cell_type": "code",
   "execution_count": 10,
   "id": "9784d3b3",
   "metadata": {},
   "outputs": [
    {
     "name": "stdout",
     "output_type": "stream",
     "text": [
      "(132, 8)\n",
      "(132,)\n"
     ]
    }
   ],
   "source": [
    "X = mel17.iloc[:,:-1].to_numpy()\n",
    "print(X.shape)\n",
    "y = mel17['z_bin'].to_numpy()\n",
    "print(y.shape)"
   ]
  },
  {
   "cell_type": "code",
   "execution_count": 11,
   "id": "97258f7f",
   "metadata": {},
   "outputs": [
    {
     "data": {
      "text/plain": [
       "Counter({'z2': 38, 'z1': 83, 'z3': 11})"
      ]
     },
     "execution_count": 11,
     "metadata": {},
     "output_type": "execute_result"
    }
   ],
   "source": [
    "Counter(y)"
   ]
  },
  {
   "cell_type": "code",
   "execution_count": 12,
   "id": "c65eb8cd",
   "metadata": {},
   "outputs": [],
   "source": [
    "X_res, y_res = RandomUnderSampler(random_state=42).fit_resample(X, y)"
   ]
  },
  {
   "cell_type": "code",
   "execution_count": 13,
   "id": "3d822382",
   "metadata": {},
   "outputs": [
    {
     "data": {
      "text/plain": [
       "Counter({'z1': 11, 'z2': 11, 'z3': 11})"
      ]
     },
     "execution_count": 13,
     "metadata": {},
     "output_type": "execute_result"
    }
   ],
   "source": [
    "Counter(y_res)"
   ]
  },
  {
   "cell_type": "code",
   "execution_count": 14,
   "id": "e786648c",
   "metadata": {},
   "outputs": [],
   "source": [
    "log_sigma = np.log10(X_res[:,2].astype('float'))\n",
    "log_L = X_res[:,4].astype('float')"
   ]
  },
  {
   "cell_type": "code",
   "execution_count": 15,
   "id": "8fadf354",
   "metadata": {},
   "outputs": [
    {
     "data": {
      "image/png": "[encoded data removed]",
      "text/plain": [
       "<Figure size 432x288 with 1 Axes>"
      ]
     },
     "metadata": {
      "needs_background": "light"
     },
     "output_type": "display_data"
    }
   ],
   "source": [
    "plt.scatter(log_sigma, log_L)\n",
    "plt.xlim(1,2)\n",
    "plt.ylim(39,42.5)\n",
    "plt.show()"
   ]
  },
  {
   "cell_type": "markdown",
   "id": "7d24f15f",
   "metadata": {},
   "source": [
    "# Fit $n$ independent unbias $L-\\sigma$ relations"
   ]
  },
  {
   "cell_type": "markdown",
   "id": "097f337c",
   "metadata": {},
   "source": [
    "Where $n$ is $C(83,11) \\times C(38,11)$ for 3 redshift bins!!"
   ]
  },
  {
   "cell_type": "markdown",
   "id": "cdda3363",
   "metadata": {},
   "source": [
    "Estimate the coeficients ($\\alpha$ and $\\beta$) from the convergence of the values."
   ]
  },
  {
   "cell_type": "code",
   "execution_count": null,
   "id": "da5aef3e",
   "metadata": {},
   "outputs": [],
   "source": []
  }
 ],
 "metadata": {
  "kernelspec": {
   "display_name": "Python 3",
   "language": "python",
   "name": "python3"
  },
  "language_info": {
   "codemirror_mode": {
    "name": "ipython",
    "version": 3
   },
   "file_extension": ".py",
   "mimetype": "text/x-python",
   "name": "python",
   "nbconvert_exporter": "python",
   "pygments_lexer": "ipython3",
   "version": "3.7.4"
  }
 },
 "nbformat": 4,
 "nbformat_minor": 5
}
