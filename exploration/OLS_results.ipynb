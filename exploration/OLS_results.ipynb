{
 "cells": [
  {
   "cell_type": "code",
   "execution_count": 1,
   "id": "3939da76",
   "metadata": {},
   "outputs": [],
   "source": [
    "from sklearn.linear_model import LinearRegression\n",
    "import pandas as pd\n",
    "import numpy as np\n",
    "import statsmodels.api as sm\n",
    "import sys\n",
    "sys.path.append('../')\n",
    "import matplotlib.pyplot as plt\n",
    "from ols import leastsq\n",
    "%matplotlib inline"
   ]
  },
  {
   "cell_type": "code",
   "execution_count": 2,
   "id": "40f60756",
   "metadata": {},
   "outputs": [
    {
     "data": {
      "text/html": [
       "<div>\n",
       "<style scoped>\n",
       "    .dataframe tbody tr th:only-of-type {\n",
       "        vertical-align: middle;\n",
       "    }\n",
       "\n",
       "    .dataframe tbody tr th {\n",
       "        vertical-align: top;\n",
       "    }\n",
       "\n",
       "    .dataframe thead th {\n",
       "        text-align: right;\n",
       "    }\n",
       "</style>\n",
       "<table border=\"1\" class=\"dataframe\">\n",
       "  <thead>\n",
       "    <tr style=\"text-align: right;\">\n",
       "      <th></th>\n",
       "      <th>name</th>\n",
       "      <th>lum</th>\n",
       "      <th>sig</th>\n",
       "      <th>oh</th>\n",
       "      <th>ewhb</th>\n",
       "      <th>ion</th>\n",
       "      <th>te</th>\n",
       "      <th>ne</th>\n",
       "      <th>chb</th>\n",
       "      <th>z</th>\n",
       "      <th>ref</th>\n",
       "      <th>type</th>\n",
       "      <th>class</th>\n",
       "      <th>sigobs</th>\n",
       "      <th>photobs</th>\n",
       "      <th>out</th>\n",
       "    </tr>\n",
       "  </thead>\n",
       "  <tbody>\n",
       "    <tr>\n",
       "      <th>0</th>\n",
       "      <td>UM238</td>\n",
       "      <td>40.024</td>\n",
       "      <td>1.270</td>\n",
       "      <td>7.891</td>\n",
       "      <td>1.554</td>\n",
       "      <td>0.520</td>\n",
       "      <td>4.186</td>\n",
       "      <td>2.938</td>\n",
       "      <td>0.233</td>\n",
       "      <td>0.01427</td>\n",
       "      <td>1</td>\n",
       "      <td>Gaussian Profile</td>\n",
       "      <td>G</td>\n",
       "      <td>FEROS</td>\n",
       "      <td>B&amp;C</td>\n",
       "      <td>0</td>\n",
       "    </tr>\n",
       "    <tr>\n",
       "      <th>1</th>\n",
       "      <td>mrk557</td>\n",
       "      <td>40.668</td>\n",
       "      <td>1.761</td>\n",
       "      <td>8.697</td>\n",
       "      <td>0.996</td>\n",
       "      <td>-0.715</td>\n",
       "      <td>4.146</td>\n",
       "      <td>2.573</td>\n",
       "      <td>0.383</td>\n",
       "      <td>0.01328</td>\n",
       "      <td>1</td>\n",
       "      <td>Irregular Profile</td>\n",
       "      <td>I</td>\n",
       "      <td>COUDÉ</td>\n",
       "      <td>B&amp;C</td>\n",
       "      <td>0</td>\n",
       "    </tr>\n",
       "    <tr>\n",
       "      <th>2</th>\n",
       "      <td>UM304</td>\n",
       "      <td>41.546</td>\n",
       "      <td>1.893</td>\n",
       "      <td>0.000</td>\n",
       "      <td>0.000</td>\n",
       "      <td>0.000</td>\n",
       "      <td>4.146</td>\n",
       "      <td>2.309</td>\n",
       "      <td>0.000</td>\n",
       "      <td>0.01570</td>\n",
       "      <td>14</td>\n",
       "      <td>Profile with Components</td>\n",
       "      <td>C</td>\n",
       "      <td>COUDÉ</td>\n",
       "      <td>Others</td>\n",
       "      <td>0</td>\n",
       "    </tr>\n",
       "    <tr>\n",
       "      <th>3</th>\n",
       "      <td>cts1001</td>\n",
       "      <td>40.810</td>\n",
       "      <td>1.683</td>\n",
       "      <td>7.961</td>\n",
       "      <td>1.775</td>\n",
       "      <td>0.059</td>\n",
       "      <td>4.173</td>\n",
       "      <td>2.927</td>\n",
       "      <td>0.189</td>\n",
       "      <td>0.02263</td>\n",
       "      <td>1</td>\n",
       "      <td>Irregular Profile</td>\n",
       "      <td>I</td>\n",
       "      <td>FEROS</td>\n",
       "      <td>B&amp;C</td>\n",
       "      <td>0</td>\n",
       "    </tr>\n",
       "    <tr>\n",
       "      <th>4</th>\n",
       "      <td>UM306</td>\n",
       "      <td>40.245</td>\n",
       "      <td>1.282</td>\n",
       "      <td>8.184</td>\n",
       "      <td>1.375</td>\n",
       "      <td>0.344</td>\n",
       "      <td>4.065</td>\n",
       "      <td>1.423</td>\n",
       "      <td>0.082</td>\n",
       "      <td>0.01649</td>\n",
       "      <td>1</td>\n",
       "      <td>Gaussian Profile</td>\n",
       "      <td>G</td>\n",
       "      <td>FEROS</td>\n",
       "      <td>B&amp;C</td>\n",
       "      <td>0</td>\n",
       "    </tr>\n",
       "  </tbody>\n",
       "</table>\n",
       "</div>"
      ],
      "text/plain": [
       "      name     lum    sig     oh   ewhb    ion     te     ne    chb        z  \\\n",
       "0    UM238  40.024  1.270  7.891  1.554  0.520  4.186  2.938  0.233  0.01427   \n",
       "1   mrk557  40.668  1.761  8.697  0.996 -0.715  4.146  2.573  0.383  0.01328   \n",
       "2    UM304  41.546  1.893  0.000  0.000  0.000  4.146  2.309  0.000  0.01570   \n",
       "3  cts1001  40.810  1.683  7.961  1.775  0.059  4.173  2.927  0.189  0.02263   \n",
       "4    UM306  40.245  1.282  8.184  1.375  0.344  4.065  1.423  0.082  0.01649   \n",
       "\n",
       "   ref                     type class sigobs photobs  out  \n",
       "0    1         Gaussian Profile     G  FEROS     B&C    0  \n",
       "1    1        Irregular Profile     I  COUDÉ     B&C    0  \n",
       "2   14  Profile with Components     C  COUDÉ  Others    0  \n",
       "3    1        Irregular Profile     I  FEROS     B&C    0  \n",
       "4    1         Gaussian Profile     G  FEROS     B&C    0  "
      ]
     },
     "execution_count": 2,
     "metadata": {},
     "output_type": "execute_result"
    }
   ],
   "source": [
    "df = pd.read_csv('../data/lsigma_new.csv')\n",
    "df.head()"
   ]
  },
  {
   "cell_type": "code",
   "execution_count": 3,
   "id": "da160675",
   "metadata": {},
   "outputs": [
    {
     "data": {
      "text/plain": [
       "(81, 16)"
      ]
     },
     "execution_count": 3,
     "metadata": {},
     "output_type": "execute_result"
    }
   ],
   "source": [
    "df81 = df[(df['sigobs']==\"FEROS\") & (df['photobs'] != \"Others\")]\n",
    "df81.shape"
   ]
  },
  {
   "cell_type": "code",
   "execution_count": 4,
   "id": "4a3abb8b",
   "metadata": {},
   "outputs": [],
   "source": [
    "X = df81['sig'].to_numpy().reshape(-1,1)\n",
    "y = df81['lum'].to_numpy()"
   ]
  },
  {
   "cell_type": "markdown",
   "id": "479fd8ce",
   "metadata": {},
   "source": [
    "# OLS"
   ]
  },
  {
   "cell_type": "code",
   "execution_count": 5,
   "id": "9ad9d90e",
   "metadata": {},
   "outputs": [
    {
     "name": "stdout",
     "output_type": "stream",
     "text": [
      "log_ L = 36.21 +/- 0.323 + 3.01 +/- 0.229 log_s; rms = 0.37; rho = 0.85\n",
      "log_ L = 34.52 +/- 0.377 + 4.18 +/- 0.269 log_s; rms = 0.44; rho = 0.85\n",
      "log_ L = 35.49 +/- 0.322 + 3.51 +/- 0.23 log_s; rms = 0.39; rho = 0.85\n"
     ]
    }
   ],
   "source": [
    "a, b, c, d, e, f = leastsq(X,y, method=1)\n",
    "print('log_ L = {} +/- {} + {} +/- {} log_s; rms = {}; rho = {}'.format(a.round(2),b.round(3),c.round(2),d.round(3),e.round(2),f.round(2)))\n",
    "a, b, c, d, e, f = leastsq(X,y, method=2)\n",
    "print('log_ L = {} +/- {} + {} +/- {} log_s; rms = {}; rho = {}'.format(a.round(2),b.round(3),c.round(2),d.round(3),e.round(2),f.round(2)))\n",
    "a, b, c, d, e, f = leastsq(X,y, method=3)\n",
    "print('log_ L = {} +/- {} + {} +/- {} log_s; rms = {}; rho = {}'.format(a.round(2),b.round(3),c.round(2),d.round(3),e.round(2),f.round(2)))"
   ]
  },
  {
   "cell_type": "markdown",
   "id": "fa1dbfbf",
   "metadata": {},
   "source": [
    "Same results as that in **Table 6** in Bordalo & Telles (2011). "
   ]
  },
  {
   "cell_type": "code",
   "execution_count": null,
   "id": "41bc9f3b",
   "metadata": {},
   "outputs": [],
   "source": []
  }
 ],
 "metadata": {
  "kernelspec": {
   "display_name": "Python 3",
   "language": "python",
   "name": "python3"
  },
  "language_info": {
   "codemirror_mode": {
    "name": "ipython",
    "version": 3
   },
   "file_extension": ".py",
   "mimetype": "text/x-python",
   "name": "python",
   "nbconvert_exporter": "python",
   "pygments_lexer": "ipython3",
   "version": "3.7.4"
  }
 },
 "nbformat": 4,
 "nbformat_minor": 5
}
