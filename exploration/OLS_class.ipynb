{
 "cells": [
  {
   "cell_type": "code",
   "execution_count": 12,
   "id": "3939da76",
   "metadata": {},
   "outputs": [],
   "source": [
    "from sklearn.linear_model import LinearRegression\n",
    "import pandas as pd\n",
    "import numpy as np\n",
    "import statsmodels.api as sm\n",
    "import sys\n",
    "sys.path.append('../')\n",
    "import matplotlib.pyplot as plt\n",
    "from ols import leastsq\n",
    "%matplotlib inline"
   ]
  },
  {
   "cell_type": "code",
   "execution_count": 13,
   "id": "40f60756",
   "metadata": {},
   "outputs": [
    {
     "data": {
      "text/html": [
       "<div>\n",
       "<style scoped>\n",
       "    .dataframe tbody tr th:only-of-type {\n",
       "        vertical-align: middle;\n",
       "    }\n",
       "\n",
       "    .dataframe tbody tr th {\n",
       "        vertical-align: top;\n",
       "    }\n",
       "\n",
       "    .dataframe thead th {\n",
       "        text-align: right;\n",
       "    }\n",
       "</style>\n",
       "<table border=\"1\" class=\"dataframe\">\n",
       "  <thead>\n",
       "    <tr style=\"text-align: right;\">\n",
       "      <th></th>\n",
       "      <th>name</th>\n",
       "      <th>lum</th>\n",
       "      <th>sig</th>\n",
       "      <th>oh</th>\n",
       "      <th>ewhb</th>\n",
       "      <th>ion</th>\n",
       "      <th>te</th>\n",
       "      <th>ne</th>\n",
       "      <th>chb</th>\n",
       "      <th>z</th>\n",
       "      <th>ref</th>\n",
       "      <th>type</th>\n",
       "      <th>class</th>\n",
       "      <th>sigobs</th>\n",
       "      <th>photobs</th>\n",
       "      <th>out</th>\n",
       "    </tr>\n",
       "  </thead>\n",
       "  <tbody>\n",
       "    <tr>\n",
       "      <th>0</th>\n",
       "      <td>UM238</td>\n",
       "      <td>40.024</td>\n",
       "      <td>1.270</td>\n",
       "      <td>7.891</td>\n",
       "      <td>1.554</td>\n",
       "      <td>0.520</td>\n",
       "      <td>4.186</td>\n",
       "      <td>2.938</td>\n",
       "      <td>0.233</td>\n",
       "      <td>0.01427</td>\n",
       "      <td>1</td>\n",
       "      <td>Gaussian Profile</td>\n",
       "      <td>G</td>\n",
       "      <td>FEROS</td>\n",
       "      <td>B&amp;C</td>\n",
       "      <td>0</td>\n",
       "    </tr>\n",
       "    <tr>\n",
       "      <th>1</th>\n",
       "      <td>mrk557</td>\n",
       "      <td>40.668</td>\n",
       "      <td>1.761</td>\n",
       "      <td>8.697</td>\n",
       "      <td>0.996</td>\n",
       "      <td>-0.715</td>\n",
       "      <td>4.146</td>\n",
       "      <td>2.573</td>\n",
       "      <td>0.383</td>\n",
       "      <td>0.01328</td>\n",
       "      <td>1</td>\n",
       "      <td>Irregular Profile</td>\n",
       "      <td>I</td>\n",
       "      <td>COUDÉ</td>\n",
       "      <td>B&amp;C</td>\n",
       "      <td>0</td>\n",
       "    </tr>\n",
       "    <tr>\n",
       "      <th>2</th>\n",
       "      <td>UM304</td>\n",
       "      <td>41.546</td>\n",
       "      <td>1.893</td>\n",
       "      <td>0.000</td>\n",
       "      <td>0.000</td>\n",
       "      <td>0.000</td>\n",
       "      <td>4.146</td>\n",
       "      <td>2.309</td>\n",
       "      <td>0.000</td>\n",
       "      <td>0.01570</td>\n",
       "      <td>14</td>\n",
       "      <td>Profile with Components</td>\n",
       "      <td>C</td>\n",
       "      <td>COUDÉ</td>\n",
       "      <td>Others</td>\n",
       "      <td>0</td>\n",
       "    </tr>\n",
       "    <tr>\n",
       "      <th>3</th>\n",
       "      <td>cts1001</td>\n",
       "      <td>40.810</td>\n",
       "      <td>1.683</td>\n",
       "      <td>7.961</td>\n",
       "      <td>1.775</td>\n",
       "      <td>0.059</td>\n",
       "      <td>4.173</td>\n",
       "      <td>2.927</td>\n",
       "      <td>0.189</td>\n",
       "      <td>0.02263</td>\n",
       "      <td>1</td>\n",
       "      <td>Irregular Profile</td>\n",
       "      <td>I</td>\n",
       "      <td>FEROS</td>\n",
       "      <td>B&amp;C</td>\n",
       "      <td>0</td>\n",
       "    </tr>\n",
       "    <tr>\n",
       "      <th>4</th>\n",
       "      <td>UM306</td>\n",
       "      <td>40.245</td>\n",
       "      <td>1.282</td>\n",
       "      <td>8.184</td>\n",
       "      <td>1.375</td>\n",
       "      <td>0.344</td>\n",
       "      <td>4.065</td>\n",
       "      <td>1.423</td>\n",
       "      <td>0.082</td>\n",
       "      <td>0.01649</td>\n",
       "      <td>1</td>\n",
       "      <td>Gaussian Profile</td>\n",
       "      <td>G</td>\n",
       "      <td>FEROS</td>\n",
       "      <td>B&amp;C</td>\n",
       "      <td>0</td>\n",
       "    </tr>\n",
       "  </tbody>\n",
       "</table>\n",
       "</div>"
      ],
      "text/plain": [
       "      name     lum    sig     oh   ewhb    ion     te     ne    chb        z  \\\n",
       "0    UM238  40.024  1.270  7.891  1.554  0.520  4.186  2.938  0.233  0.01427   \n",
       "1   mrk557  40.668  1.761  8.697  0.996 -0.715  4.146  2.573  0.383  0.01328   \n",
       "2    UM304  41.546  1.893  0.000  0.000  0.000  4.146  2.309  0.000  0.01570   \n",
       "3  cts1001  40.810  1.683  7.961  1.775  0.059  4.173  2.927  0.189  0.02263   \n",
       "4    UM306  40.245  1.282  8.184  1.375  0.344  4.065  1.423  0.082  0.01649   \n",
       "\n",
       "   ref                     type class sigobs photobs  out  \n",
       "0    1         Gaussian Profile     G  FEROS     B&C    0  \n",
       "1    1        Irregular Profile     I  COUDÉ     B&C    0  \n",
       "2   14  Profile with Components     C  COUDÉ  Others    0  \n",
       "3    1        Irregular Profile     I  FEROS     B&C    0  \n",
       "4    1         Gaussian Profile     G  FEROS     B&C    0  "
      ]
     },
     "execution_count": 13,
     "metadata": {},
     "output_type": "execute_result"
    }
   ],
   "source": [
    "df = pd.read_csv('../data/lsigma_new.csv')\n",
    "df.head()"
   ]
  },
  {
   "cell_type": "code",
   "execution_count": 14,
   "id": "da160675",
   "metadata": {},
   "outputs": [
    {
     "data": {
      "text/plain": [
       "(81, 16)"
      ]
     },
     "execution_count": 14,
     "metadata": {},
     "output_type": "execute_result"
    }
   ],
   "source": [
    "df81 = df[(df['sigobs']==\"FEROS\") & (df['photobs'] != \"Others\")]\n",
    "df81.shape"
   ]
  },
  {
   "cell_type": "code",
   "execution_count": 15,
   "id": "4a3abb8b",
   "metadata": {},
   "outputs": [],
   "source": [
    "X = df81['sig'].to_numpy().reshape(-1,1)\n",
    "y = df81['lum'].to_numpy()"
   ]
  },
  {
   "cell_type": "markdown",
   "id": "fa1dbfbf",
   "metadata": {},
   "source": [
    "Same results as that in **Table 6** in Bordalo & Telles (2011). "
   ]
  },
  {
   "cell_type": "markdown",
   "id": "479fd8ce",
   "metadata": {},
   "source": [
    "# OLS"
   ]
  },
  {
   "cell_type": "code",
   "execution_count": 11,
   "id": "9ad9d90e",
   "metadata": {},
   "outputs": [
    {
     "name": "stdout",
     "output_type": "stream",
     "text": [
      "log_ L = 36.21 +/- 0.323 + 3.01 +/- 0.229 log_s; rms = 0.37\n",
      "log_ L = 34.52 +/- 0.377 + 4.18 +/- 0.269 log_s; rms = 0.44\n",
      "log_ L = 35.49 +/- 0.322 + 3.51 +/- 0.23 log_s; rms = 0.39\n"
     ]
    }
   ],
   "source": [
    "a, b, c, d, e = leastsq(X,y, method=1)\n",
    "print('log_ L = {} +/- {} + {} +/- {} log_s; rms = {}'.format(a.round(2),b.round(3),c.round(2),d.round(3),e.round(2)))\n",
    "a, b, c, d, e = leastsq(X,y, method=2)\n",
    "print('log_ L = {} +/- {} + {} +/- {} log_s; rms = {}'.format(a.round(2),b.round(3),c.round(2),d.round(3),e.round(2)))\n",
    "a, b, c, d, e = leastsq(X,y, method=3)\n",
    "print('log_ L = {} +/- {} + {} +/- {} log_s; rms = {}'.format(a.round(2),b.round(3),c.round(2),d.round(3),e.round(2)))"
   ]
  },
  {
   "cell_type": "markdown",
   "id": "7f027017",
   "metadata": {},
   "source": [
    "# OLS my class"
   ]
  },
  {
   "cell_type": "code",
   "execution_count": null,
   "id": "7e962c00",
   "metadata": {},
   "outputs": [],
   "source": [
    "class OLS(object):\n",
    "    \"\"\"\n",
    "    Class to estimate the ordinary least-squares regression coefficients for\n",
    "    OLS(X|Y), OLS(Y|X) and OLS bisector as decribed in Isobe et al. (1990).\n",
    "    \n",
    "    TO DO: slope and intercept variances\n",
    "    \n",
    "    References:\n",
    "    Isobe, T., Feigelson, E. D., Akritas, M. G., & Babu, G. J. 1990, ApJ, 364, 104\n",
    "    \"\"\"\n",
    "    def __init__(self, X, y, method=1):\n",
    "        \"\"\"\n",
    "        X : numpy array (n, 1)\n",
    "        y : numpy array (n, ) \n",
    "        \"\"\" \n",
    "        \n",
    "        N = X.shape[0]\n",
    "        K = 2 # number of regression parameters (slope and intercept, OLS)\n",
    "        x_mean = X[:,0].mean()\n",
    "        x_res = X[:,0] - x_mean\n",
    "        y_mean = y.mean()\n",
    "        y_res = y - y_mean\n",
    "        Sxx = sum(x_res**2)\n",
    "        Syy = sum(y_res**2)\n",
    "        Sxy = sum(x_res*y_res)\n",
    "\n",
    "        # OLS(Y|X)\n",
    "        reg_direct = LinearRegression().fit(X, y)\n",
    "        self.a1 = reg_direct.intercept_\n",
    "        self.b1 = reg_direct.coef_[0]\n",
    "        self.R2 = reg_direct.score(X, y)\n",
    "        self.rms1 = np.sqrt(sum((y-reg_direct.predict(X))**2)/(N-K)) # in units of Y\n",
    "        self.var_b1 = np.sqrt((1/Sxx**2)*(sum((x_res**2)*(y-self.b1*X[:,0]-y_mean+self.b1*x_mean)**2)))\n",
    "\n",
    "\n",
    "        # OLS(X|Y)\n",
    "        XX = X.reshape(-1)\n",
    "        yy = y.reshape(-1,1)\n",
    "        reg_inverse = LinearRegression().fit(yy, XX)\n",
    "        self.a2 = -reg_inverse.intercept_/reg_inverse.coef_[0]\n",
    "        self.b2 = 1/reg_inverse.coef_[0]\n",
    "        y_hat = self.a2 + self.b2*XX\n",
    "        self.rms2 = np.sqrt(sum((yy[:,0]-y_hat)**2)/(N-K)) # in units of Y\n",
    "        self.var_b2 = np.sqrt((1/Sxy**2)*(sum((y_res**2)*(y-self.b2*X[:,0]-y_mean+self.b2*x_mean)**2)))\n",
    "    \n",
    "        covb12 = np.sum(x_res*y_res*(y_res-self.b2 * x_res)*(y_res-self.b1 * x_res))/(self.b1*Sxx**2)\n",
    "        \n",
    "        b1_1 = 1 + (self.b1**2)\n",
    "        b2_1 = 1 + (self.b2**2)\n",
    "        b1_b2 = (self.b1 + self.b2)**2\n",
    "        \n",
    "        # OLS bisector\n",
    "        self.b3 = 1/(self.b1+self.b2) * (self.b1*self.b2 - 1 + np.sqrt((1+self.b1**2) * (1+self.b2**2)))\n",
    "        self.a3 = y.mean() - self.b3*X.mean()\n",
    "        y_hat = self.a3 + self.b3*X[:,0]\n",
    "        self.rms3 = np.sqrt(sum((y-y_hat)**2)/(N-K)) # in units of Y \n",
    "        \n",
    "        prefac = self.b3**2 / ( b1_b2 * b1_1 * b2_1)\n",
    "        var = b2_1**2 * self.var_b1 + 2 * b1_1 * b2_1 * covb12 + b1_1**2 * self.var_b2\n",
    "        self.var_b3 = np.sqrt(prefac*var)\n"
   ]
  },
  {
   "cell_type": "code",
   "execution_count": null,
   "id": "5f9a37da",
   "metadata": {},
   "outputs": [],
   "source": [
    "res = OLS(X,y)\n",
    "print('log_ L = {} +/- {} + {} +/- {} log_s  (rms = {})'.format(res.a1.round(2),'',res.b1.round(2), res.var_b1.round(3),res.rms1.round(2)))\n",
    "print('log_ L = {} +/- {} + {} +/- {} log_s  (rms = {})'.format(res.a2.round(2),'',res.b2.round(2), res.var_b2.round(3),res.rms2.round(2)))\n",
    "print('log_ L = {} +/- {} + {} +/- {} log_s  (rms = {})'.format(res.a3.round(2),'',res.b3.round(2), res.var_b3.round(3),res.rms3.round(2)))"
   ]
  },
  {
   "cell_type": "markdown",
   "id": "c9371dea",
   "metadata": {},
   "source": [
    "Using ```OLS``` from ```statsmodels```:"
   ]
  },
  {
   "cell_type": "code",
   "execution_count": null,
   "id": "0c8c29fb",
   "metadata": {},
   "outputs": [],
   "source": [
    "X = sm.add_constant(X)\n",
    "results = sm.OLS(y,X).fit()\n",
    "print(results.summary())"
   ]
  },
  {
   "cell_type": "code",
   "execution_count": null,
   "id": "aad1f68f",
   "metadata": {},
   "outputs": [],
   "source": []
  },
  {
   "cell_type": "code",
   "execution_count": null,
   "id": "1c8012c4",
   "metadata": {},
   "outputs": [],
   "source": []
  },
  {
   "cell_type": "code",
   "execution_count": null,
   "id": "3525a9e9",
   "metadata": {},
   "outputs": [],
   "source": [
    "# With linear algebra \n",
    "# numpy arrays"
   ]
  },
  {
   "cell_type": "code",
   "execution_count": null,
   "id": "5aeff342",
   "metadata": {},
   "outputs": [],
   "source": [
    "N = X.shape[0]\n",
    "p = X.shape[1] + 1  # plus one because LinearRegression adds an intercept term\n",
    "\n",
    "X_with_intercept = np.empty(shape=(N, p), dtype=float)\n",
    "X_with_intercept[:, 0] = 1\n",
    "X_with_intercept[:, 1:p] = X"
   ]
  },
  {
   "cell_type": "code",
   "execution_count": null,
   "id": "46cd836b",
   "metadata": {},
   "outputs": [],
   "source": [
    "beta_hat = np.linalg.inv(X_with_intercept.T @ X_with_intercept) @ X_with_intercept.T @ y\n",
    "print(beta_hat)"
   ]
  },
  {
   "cell_type": "code",
   "execution_count": null,
   "id": "c16539e6",
   "metadata": {},
   "outputs": [],
   "source": [
    "y_hat = beta_hat[0] + beta_hat[1]*X\n",
    "residuals = y - y_hat\n",
    "residual_sum_of_squares = residuals.T @ residuals"
   ]
  },
  {
   "cell_type": "code",
   "execution_count": null,
   "id": "7d708a19",
   "metadata": {},
   "outputs": [],
   "source": [
    "sigma_squared_hat = residual_sum_of_squares[0, 0] / (N - p)\n",
    "var_beta_hat = np.linalg.inv(X_with_intercept.T @ X_with_intercept) * sigma_squared_hat\n",
    "for p_ in range(p):\n",
    "    standard_error = var_beta_hat[p_, p_] ** 0.5\n",
    "    print(f\"SE(beta_hat[{p_}]): {standard_error}\")"
   ]
  },
  {
   "cell_type": "markdown",
   "id": "be52dc6a",
   "metadata": {},
   "source": [
    "??"
   ]
  },
  {
   "cell_type": "code",
   "execution_count": null,
   "id": "48d4b63b",
   "metadata": {},
   "outputs": [],
   "source": [
    "X = pd.DataFrame(np.random.randn(1000,3), columns=['X1','X2','X3'])\n",
    "y = pd.DataFrame(np.random.randn(1000,1), columns=['Y'])        \n",
    "\n",
    "model = LinearRegression()\n",
    "model.fit(X=X, y=y)"
   ]
  },
  {
   "cell_type": "code",
   "execution_count": null,
   "id": "17a74d7e",
   "metadata": {},
   "outputs": [],
   "source": [
    "for i in range(X.shape[1]):\n",
    "    plt.scatter(X.iloc[:,i],y)\n",
    "plt.show()"
   ]
  },
  {
   "cell_type": "code",
   "execution_count": null,
   "id": "b1d8adce",
   "metadata": {},
   "outputs": [],
   "source": [
    "N = len(X)\n",
    "p = len(X.columns) + 1  # plus one because LinearRegression adds an intercept term"
   ]
  },
  {
   "cell_type": "code",
   "execution_count": null,
   "id": "ee99b738",
   "metadata": {},
   "outputs": [],
   "source": [
    "X_with_intercept = np.empty(shape=(N, p), dtype=float)\n",
    "X_with_intercept[:, 0] = 1\n",
    "X_with_intercept[:, 1:p] = X.values"
   ]
  },
  {
   "cell_type": "code",
   "execution_count": null,
   "id": "d0249fe0",
   "metadata": {},
   "outputs": [],
   "source": [
    "beta_hat = np.linalg.inv(X_with_intercept.T @ X_with_intercept) @ X_with_intercept.T @ y.values\n",
    "print(beta_hat)"
   ]
  },
  {
   "cell_type": "code",
   "execution_count": null,
   "id": "59d47217",
   "metadata": {},
   "outputs": [],
   "source": [
    "y_hat = model.predict(X)\n",
    "residuals = y.values - y_hat\n",
    "residual_sum_of_squares = residuals.T @ residuals\n",
    "sigma_squared_hat = residual_sum_of_squares[0, 0] / (N - p)\n",
    "var_beta_hat = np.linalg.inv(X_with_intercept.T @ X_with_intercept) * sigma_squared_hat\n",
    "for p_ in range(p):\n",
    "    standard_error = var_beta_hat[p_, p_] ** 0.5\n",
    "    print(f\"SE(beta_hat[{p_}]): {standard_error}\")"
   ]
  },
  {
   "cell_type": "code",
   "execution_count": null,
   "id": "09921527",
   "metadata": {},
   "outputs": [],
   "source": []
  },
  {
   "cell_type": "code",
   "execution_count": null,
   "id": "41bc9f3b",
   "metadata": {},
   "outputs": [],
   "source": []
  }
 ],
 "metadata": {
  "kernelspec": {
   "display_name": "Python 3",
   "language": "python",
   "name": "python3"
  },
  "language_info": {
   "codemirror_mode": {
    "name": "ipython",
    "version": 3
   },
   "file_extension": ".py",
   "mimetype": "text/x-python",
   "name": "python",
   "nbconvert_exporter": "python",
   "pygments_lexer": "ipython3",
   "version": "3.7.10"
  }
 },
 "nbformat": 4,
 "nbformat_minor": 5
}
