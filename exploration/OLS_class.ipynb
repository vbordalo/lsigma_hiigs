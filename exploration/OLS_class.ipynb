{
 "cells": [
  {
   "cell_type": "code",
   "execution_count": 460,
   "id": "3939da76",
   "metadata": {},
   "outputs": [],
   "source": [
    "from sklearn.linear_model import LinearRegression\n",
    "import pandas as pd\n",
    "import numpy as np\n",
    "import statsmodels.api as sm\n",
    "import matplotlib.pyplot as plt\n",
    "%matplotlib inline"
   ]
  },
  {
   "cell_type": "code",
   "execution_count": 493,
   "id": "a228bb53",
   "metadata": {},
   "outputs": [],
   "source": [
    "\"\"\"\n",
    "Referece: https://github.com/sbird/spb_common\n",
    "\n",
    "Module for computing the 5 least squares regression methods detailed in\n",
    "        Linear regression in astronomy.\n",
    "        Isobe, Takashi; Feigelson, Eric D.; Akritas, Michael G.; Babu, Gutti Jogesh\n",
    "        Astrophysical Journal, Part 1 (ISSN 0004-637X), vol. 364, Nov. 20, 1990, p. 104-113\n",
    "        http://adsabs.harvard.edu/abs/1990ApJ...364..104I\n",
    "These methods are appropriate when the intrinsic scatter in the data is much larger\n",
    "than the error on each data point.\n",
    "\"\"\"\n",
    "\n",
    "import numpy as np\n",
    "import scipy.stats as st\n",
    "\n",
    "def leastsq(x,y, method=5):\n",
    "    \"\"\"\n",
    "       Compute the least squares fit to y = beta x + alpha,\n",
    "       using one of the 5 methods outlined in\n",
    "       http://adsabs.harvard.edu/abs/1990ApJ...364..104I\n",
    "       Method 1 minimises distance from Y given X (ie, the standard least squares fit)\n",
    "       Method 2 minimises distance from X given Y\n",
    "       Method 3 (recommended) is the OLS bisector, which gives a line bisecting the above two.\n",
    "       Method 4 (Orthogonal regression) minimises perpendicular distance from the line to points\n",
    "       Method 5 is the geometric mean of the slopes from methods 1 and 2.\n",
    "       Method 6 is the Theil-Sen estimator: the median of the pairwise slopes.\n",
    "       (See Akritas 95,  http://www.tandfonline.com/doi/abs/10.1080/01621459.1995.10476499)\n",
    "       Returns:\n",
    "              (alpha, beta, bvar), the intercept slope and variance of the slope\n",
    "    \"\"\"\n",
    "    #Define some sums\n",
    "    xbar = np.mean(x)\n",
    "    ybar = np.mean(y)\n",
    "    xdif = x-xbar\n",
    "    ydif = y-ybar\n",
    "    sxx = np.sum(xdif**2)\n",
    "    syy = np.sum(ydif**2)\n",
    "    sxy = np.sum(ydif*xdif)\n",
    "\n",
    "    #Check for zeros\n",
    "    if sxx == 0 or syy == 0 or sxy == 0:\n",
    "        raise ValueError(\"Least Squares ill-defined\")\n",
    "    if method > 6 or method < 1:\n",
    "        raise ValueError(\"Method not recognised\")\n",
    "\n",
    "    #These formulas are taken from Table 1 of Isobe et al, page 3\n",
    "    #Minimise distance from Y given X\n",
    "    beta1 = sxy/sxx\n",
    "    #Variance of b1\n",
    "    bvar1 = np.sum(xdif**2*(ydif-beta1*xdif)**2)/sxx**2\n",
    "    #Minimise distance from X given Y\n",
    "    beta2 = syy/sxy\n",
    "    #Variance of b2\n",
    "    bvar2 = np.sum(ydif**2*(ydif-beta2*xdif)**2)/sxy**2\n",
    "    #Covariance of b1 and b2\n",
    "    covb12 = np.sum(xdif*ydif*(ydif-beta2*xdif)*(ydif-beta1*xdif))/(beta1*sxx**2)\n",
    "\n",
    "    if method == 1:\n",
    "        beta = beta1\n",
    "        bvar = np.sqrt(bvar1) # FIXED VINICIUS\n",
    "    if method == 2:\n",
    "        beta = beta2\n",
    "        bvar = np.sqrt(bvar2) # FIXED VINICIUS\n",
    "    if method == 3:\n",
    "        #OLS bisector: line that bisects the above two.\n",
    "        beta1p1 = 1+beta1**2\n",
    "        beta2p1 = 1+beta2**2\n",
    "        beta = (beta1*beta2 - 1 + np.sqrt(beta1p1*beta2p1))/(beta1+beta2)\n",
    "        #Variance\n",
    "        prefac = beta**2 / ( (beta1 + beta2)**2 * beta1p1 * beta2p1)\n",
    "        var = beta2p1**2 * bvar1 + 2 * beta1p1 * beta2p1 * covb12 + beta1p1**2 * bvar2\n",
    "        bvar = np.sqrt(prefac*var) # FIXED VINICIUS\n",
    "\n",
    "    if method == 4:\n",
    "        #Orthogonal: minimise perpendicular distance from line to points\n",
    "        beta = 0.5*((beta2-1./beta1)+np.sign(sxy)*np.sqrt(4+(beta2-1./beta1)**2))\n",
    "        prefac = beta**2 / (4*beta1**2 + (beta1*beta2 - 1)**2)\n",
    "        bvar = prefac * ( bvar1/beta1**2 + 2*covb12 + beta1**2*bvar2 )\n",
    "\n",
    "    if method == 5:\n",
    "        #Reduced major axis:\n",
    "        beta = np.sign(sxy)*np.sqrt(beta1*beta2)\n",
    "        bvar = 0.25 * (beta2/beta1 * bvar1 + 2*covb12 + beta1/beta2 * bvar2)\n",
    "\n",
    "    if method == 6:\n",
    "        #Theil-Sen estimator for uncensored data: the median of the slopes.\n",
    "        yy = np.subtract.outer(y,y)\n",
    "        xx = np.subtract.outer(x,x)\n",
    "        ind = np.where(xx != 0)\n",
    "        beta = np.median(yy[ind]/xx[ind])\n",
    "        #Can't find a formula for the variance\n",
    "        bvar = 0\n",
    "\n",
    "    #The intercept\n",
    "    alpha = ybar - beta*xbar\n",
    "\n",
    "    return (alpha, beta, bvar)\n",
    "\n",
    "def pearson(x,y,alpha, beta, method=3):\n",
    "    \"\"\"Find the Pearson correlation coefficient between the fit and the data.\n",
    "        if method == 1 return the Pearson r of y and the fit to y\n",
    "        if method == 2, the same but with x and y reverse\n",
    "        if method == 3 the geometric mean of the above\n",
    "    \"\"\"\n",
    "    #Vector of expected y from fit\n",
    "    fity = beta*x + alpha\n",
    "    #Vector of expected x from fit\n",
    "    fitx = (y - alpha) / beta\n",
    "    #Scatter from y axis: method 1 minimises this.\n",
    "    (pry,_) = st.pearsonr(y,fity)\n",
    "    if method == 1:\n",
    "        return pry\n",
    "    (prx,_) = st.pearsonr(x,fitx)\n",
    "    if method == 2:\n",
    "        return prx\n",
    "    return np.sqrt(pry*prx)\n",
    "\n",
    "def kstest(x,y,alpha, beta):\n",
    "    \"\"\"Find the K-S test probability that the fit and the data were from the same distribution\"\"\"\n",
    "    #Vector of expected y from fit\n",
    "    fity = beta*x + alpha\n",
    "    #Vector of expected x from fit\n",
    "    fitx = (y - alpha) / beta\n",
    "    (D1, p1) = st.ks_2samp(y,fity)\n",
    "    (D2, p2) = st.ks_2samp(x,fitx)\n",
    "    return (np.sqrt(D1*D2),np.sqrt(p1*p2))"
   ]
  },
  {
   "cell_type": "code",
   "execution_count": 494,
   "id": "7e962c00",
   "metadata": {},
   "outputs": [],
   "source": [
    "class OLS(object):\n",
    "    \"\"\"\n",
    "    Class to estimate the ordinary least-squares regression coefficients for\n",
    "    OLS(X|Y), OLS(Y|X) and OLS bisector as decribed in Isobe et al. (1990).\n",
    "    \n",
    "    TO DO: slope and intercept variances\n",
    "    \n",
    "    References:\n",
    "    Isobe, T., Feigelson, E. D., Akritas, M. G., & Babu, G. J. 1990, ApJ, 364, 104\n",
    "    \"\"\"\n",
    "    def __init__(self, X, y):\n",
    "        \"\"\"\n",
    "        X : numpy array (n, 1)\n",
    "        y : numpy array (n, ) \n",
    "        \"\"\" \n",
    "        \n",
    "        N = X.shape[0]\n",
    "        K = 2 # number of regression parameters (slope and intercept, OLS)\n",
    "        x_mean = X[:,0].mean()\n",
    "        x_res = X[:,0] - x_mean\n",
    "        y_mean = y.mean()\n",
    "        y_res = y - y_mean\n",
    "        Sxx = sum(x_res**2)\n",
    "        Syy = sum(y_res**2)\n",
    "        Sxy = sum(x_res*y_res)\n",
    "\n",
    "        # OLS(Y|X)\n",
    "        reg_direct = LinearRegression().fit(X, y)\n",
    "        self.a1 = reg_direct.intercept_\n",
    "        self.b1 = reg_direct.coef_[0]\n",
    "        self.R2 = reg_direct.score(X, y)\n",
    "        self.rms1 = np.sqrt(sum((y-reg_direct.predict(X))**2)/(N-K)) # in units of Y\n",
    "        self.var_b1 = np.sqrt((1/Sxx**2)*(sum((x_res**2)*(y-self.b1*X[:,0]-y_mean+self.b1*x_mean)**2)))\n",
    "\n",
    "        self.var_a1 = (1/(N**2)) * sum(\n",
    "                                        (\n",
    "                                        y_res - \\\n",
    "                                        self.b1 * x_res - \\\n",
    "                                        N * x_mean * \\\n",
    "                                          (\n",
    "                                            (1/Sxx) * \\\n",
    "                                            x_res * \\\n",
    "                                            (y_res - self.b1 * x_res)\n",
    "                                          )\n",
    "                                        )**2\n",
    "                                      )\n",
    "\n",
    "        # OLS(X|Y)\n",
    "        XX = X.reshape(-1)\n",
    "        yy = y.reshape(-1,1)\n",
    "        reg_inverse = LinearRegression().fit(yy, XX)\n",
    "        self.a2 = -reg_inverse.intercept_/reg_inverse.coef_[0]\n",
    "        self.b2 = 1/reg_inverse.coef_[0]\n",
    "        y_hat = self.a2 + self.b2*XX\n",
    "        self.rms2 = np.sqrt(sum((yy[:,0]-y_hat)**2)/(N-K)) # in units of Y\n",
    "        self.var_b2 = np.sqrt((1/Sxy**2)*(sum((y_res**2)*(y-self.b2*X[:,0]-y_mean+self.b2*x_mean)**2)))\n",
    "    \n",
    "        cov_b1_b2 = (1/(self.b1*Sxx**2))*\\\n",
    "                                            sum(x_res * \\\n",
    "                                                y_res * \\\n",
    "                                               (y_res - self.b1 * x_res) * \\\n",
    "                                               (y_res - self.b2 * x_res)\n",
    "                                               )\n",
    "        b1_1 = 1 + (self.b1**2)\n",
    "        b2_1 = 1 + (self.b2**2)\n",
    "        b1_b2 = (self.b1 + self.b2)**2\n",
    "        \n",
    "        # OLS bisector\n",
    "        self.b3 = 1/(self.b1+self.b2) * (self.b1*self.b2 - 1 + np.sqrt((1+self.b1**2) * (1+self.b2**2)))\n",
    "        self.a3 = y.mean() - self.b3*X.mean()\n",
    "        y_hat = self.a3 + self.b3*X[:,0]\n",
    "        self.rms3 = np.sqrt(sum((y-y_hat)**2)/(N-K)) # in units of Y \n",
    "        \n",
    "        \n",
    "        self.var_b3 = (\n",
    "                        (self.b3**2) / (b1_b2 * b1_1 * b2_1)) * \\\n",
    "                       (\n",
    "                        (b2_1**2) * self.var_b1 + \\\n",
    "                        2 * (b1_1 * b2_1 * cov_b1_b2) + \\\n",
    "                        (b1_1**2) * self.var_b2\n",
    "                       )"
   ]
  },
  {
   "cell_type": "code",
   "execution_count": 495,
   "id": "40f60756",
   "metadata": {},
   "outputs": [
    {
     "data": {
      "text/html": [
       "<div>\n",
       "<style scoped>\n",
       "    .dataframe tbody tr th:only-of-type {\n",
       "        vertical-align: middle;\n",
       "    }\n",
       "\n",
       "    .dataframe tbody tr th {\n",
       "        vertical-align: top;\n",
       "    }\n",
       "\n",
       "    .dataframe thead th {\n",
       "        text-align: right;\n",
       "    }\n",
       "</style>\n",
       "<table border=\"1\" class=\"dataframe\">\n",
       "  <thead>\n",
       "    <tr style=\"text-align: right;\">\n",
       "      <th></th>\n",
       "      <th>name</th>\n",
       "      <th>lum</th>\n",
       "      <th>sig</th>\n",
       "      <th>oh</th>\n",
       "      <th>ewhb</th>\n",
       "      <th>ion</th>\n",
       "      <th>te</th>\n",
       "      <th>ne</th>\n",
       "      <th>chb</th>\n",
       "      <th>z</th>\n",
       "      <th>ref</th>\n",
       "      <th>type</th>\n",
       "      <th>class</th>\n",
       "      <th>sigobs</th>\n",
       "      <th>photobs</th>\n",
       "      <th>out</th>\n",
       "    </tr>\n",
       "  </thead>\n",
       "  <tbody>\n",
       "    <tr>\n",
       "      <th>0</th>\n",
       "      <td>UM238</td>\n",
       "      <td>40.024</td>\n",
       "      <td>1.270</td>\n",
       "      <td>7.891</td>\n",
       "      <td>1.554</td>\n",
       "      <td>0.520</td>\n",
       "      <td>4.186</td>\n",
       "      <td>2.938</td>\n",
       "      <td>0.233</td>\n",
       "      <td>0.01427</td>\n",
       "      <td>1</td>\n",
       "      <td>Gaussian Profile</td>\n",
       "      <td>G</td>\n",
       "      <td>FEROS</td>\n",
       "      <td>B&amp;C</td>\n",
       "      <td>0</td>\n",
       "    </tr>\n",
       "    <tr>\n",
       "      <th>1</th>\n",
       "      <td>mrk557</td>\n",
       "      <td>40.668</td>\n",
       "      <td>1.761</td>\n",
       "      <td>8.697</td>\n",
       "      <td>0.996</td>\n",
       "      <td>-0.715</td>\n",
       "      <td>4.146</td>\n",
       "      <td>2.573</td>\n",
       "      <td>0.383</td>\n",
       "      <td>0.01328</td>\n",
       "      <td>1</td>\n",
       "      <td>Irregular Profile</td>\n",
       "      <td>I</td>\n",
       "      <td>COUDÉ</td>\n",
       "      <td>B&amp;C</td>\n",
       "      <td>0</td>\n",
       "    </tr>\n",
       "    <tr>\n",
       "      <th>2</th>\n",
       "      <td>UM304</td>\n",
       "      <td>41.546</td>\n",
       "      <td>1.893</td>\n",
       "      <td>0.000</td>\n",
       "      <td>0.000</td>\n",
       "      <td>0.000</td>\n",
       "      <td>4.146</td>\n",
       "      <td>2.309</td>\n",
       "      <td>0.000</td>\n",
       "      <td>0.01570</td>\n",
       "      <td>14</td>\n",
       "      <td>Profile with Components</td>\n",
       "      <td>C</td>\n",
       "      <td>COUDÉ</td>\n",
       "      <td>Others</td>\n",
       "      <td>0</td>\n",
       "    </tr>\n",
       "    <tr>\n",
       "      <th>3</th>\n",
       "      <td>cts1001</td>\n",
       "      <td>40.810</td>\n",
       "      <td>1.683</td>\n",
       "      <td>7.961</td>\n",
       "      <td>1.775</td>\n",
       "      <td>0.059</td>\n",
       "      <td>4.173</td>\n",
       "      <td>2.927</td>\n",
       "      <td>0.189</td>\n",
       "      <td>0.02263</td>\n",
       "      <td>1</td>\n",
       "      <td>Irregular Profile</td>\n",
       "      <td>I</td>\n",
       "      <td>FEROS</td>\n",
       "      <td>B&amp;C</td>\n",
       "      <td>0</td>\n",
       "    </tr>\n",
       "    <tr>\n",
       "      <th>4</th>\n",
       "      <td>UM306</td>\n",
       "      <td>40.245</td>\n",
       "      <td>1.282</td>\n",
       "      <td>8.184</td>\n",
       "      <td>1.375</td>\n",
       "      <td>0.344</td>\n",
       "      <td>4.065</td>\n",
       "      <td>1.423</td>\n",
       "      <td>0.082</td>\n",
       "      <td>0.01649</td>\n",
       "      <td>1</td>\n",
       "      <td>Gaussian Profile</td>\n",
       "      <td>G</td>\n",
       "      <td>FEROS</td>\n",
       "      <td>B&amp;C</td>\n",
       "      <td>0</td>\n",
       "    </tr>\n",
       "  </tbody>\n",
       "</table>\n",
       "</div>"
      ],
      "text/plain": [
       "      name     lum    sig     oh   ewhb    ion     te     ne    chb        z  \\\n",
       "0    UM238  40.024  1.270  7.891  1.554  0.520  4.186  2.938  0.233  0.01427   \n",
       "1   mrk557  40.668  1.761  8.697  0.996 -0.715  4.146  2.573  0.383  0.01328   \n",
       "2    UM304  41.546  1.893  0.000  0.000  0.000  4.146  2.309  0.000  0.01570   \n",
       "3  cts1001  40.810  1.683  7.961  1.775  0.059  4.173  2.927  0.189  0.02263   \n",
       "4    UM306  40.245  1.282  8.184  1.375  0.344  4.065  1.423  0.082  0.01649   \n",
       "\n",
       "   ref                     type class sigobs photobs  out  \n",
       "0    1         Gaussian Profile     G  FEROS     B&C    0  \n",
       "1    1        Irregular Profile     I  COUDÉ     B&C    0  \n",
       "2   14  Profile with Components     C  COUDÉ  Others    0  \n",
       "3    1        Irregular Profile     I  FEROS     B&C    0  \n",
       "4    1         Gaussian Profile     G  FEROS     B&C    0  "
      ]
     },
     "execution_count": 495,
     "metadata": {},
     "output_type": "execute_result"
    }
   ],
   "source": [
    "df = pd.read_csv('../data/lsigma_new.csv')\n",
    "df.head()"
   ]
  },
  {
   "cell_type": "code",
   "execution_count": 496,
   "id": "da160675",
   "metadata": {},
   "outputs": [
    {
     "data": {
      "text/plain": [
       "(81, 16)"
      ]
     },
     "execution_count": 496,
     "metadata": {},
     "output_type": "execute_result"
    }
   ],
   "source": [
    "df81 = df[(df['sigobs']==\"FEROS\") & (df['photobs'] != \"Others\")]\n",
    "df81.shape"
   ]
  },
  {
   "cell_type": "code",
   "execution_count": 497,
   "id": "5f9a37da",
   "metadata": {},
   "outputs": [
    {
     "name": "stdout",
     "output_type": "stream",
     "text": [
      "0.721\n",
      "36.21 0.1 3.01 0.23 0.37\n",
      "34.52 4.18 0.27 0.44\n",
      "35.49 3.51 0.16 0.39\n"
     ]
    }
   ],
   "source": [
    "X = df81['sig'].to_numpy().reshape(-1,1)\n",
    "y = df81['lum'].to_numpy()\n",
    "\n",
    "res = OLS(X,y)\n",
    "print(res.R2.round(3))\n",
    "print(res.a1.round(2), res.var_a1.round(2), res.b1.round(2), res.var_b1.round(2), res.rms1.round(2))\n",
    "print(res.a2.round(2), res.b2.round(2), res.var_b2.round(2), res.rms2.round(2))\n",
    "print(res.a3.round(2), res.b3.round(2), res.var_b3.round(2), res.rms3.round(2))"
   ]
  },
  {
   "cell_type": "markdown",
   "id": "fa1dbfbf",
   "metadata": {},
   "source": [
    "Same results as that in **Table 6** in Bordalo & Telles (2011). "
   ]
  },
  {
   "cell_type": "code",
   "execution_count": 498,
   "id": "9ad9d90e",
   "metadata": {},
   "outputs": [
    {
     "name": "stdout",
     "output_type": "stream",
     "text": [
      "(36.21033353603593, 3.0128123072699364, 0.22884263536268065)\n",
      "(34.51557346760109, 4.179923049858123, 0.2686075298532924)\n",
      "(35.490354912743285, 3.508631627850659, 0.23010153271682218)\n"
     ]
    }
   ],
   "source": [
    "print(leastsq(X[:,0],y, method=1))\n",
    "print(leastsq(X[:,0],y, method=2))\n",
    "print(leastsq(X[:,0],y, method=3))"
   ]
  },
  {
   "cell_type": "code",
   "execution_count": null,
   "id": "79b594b8",
   "metadata": {},
   "outputs": [],
   "source": []
  },
  {
   "cell_type": "code",
   "execution_count": null,
   "id": "35c3925c",
   "metadata": {},
   "outputs": [],
   "source": []
  },
  {
   "cell_type": "code",
   "execution_count": null,
   "id": "d9f75adf",
   "metadata": {},
   "outputs": [],
   "source": []
  },
  {
   "cell_type": "markdown",
   "id": "c9371dea",
   "metadata": {},
   "source": [
    "Using ```OLS``` from ```statsmodels```:"
   ]
  },
  {
   "cell_type": "code",
   "execution_count": 457,
   "id": "0c8c29fb",
   "metadata": {},
   "outputs": [
    {
     "name": "stdout",
     "output_type": "stream",
     "text": [
      "                            OLS Regression Results                            \n",
      "==============================================================================\n",
      "Dep. Variable:                      y   R-squared:                       0.721\n",
      "Model:                            OLS   Adj. R-squared:                  0.717\n",
      "Method:                 Least Squares   F-statistic:                     203.9\n",
      "Date:                Fri, 04 Jun 2021   Prob (F-statistic):           1.37e-23\n",
      "Time:                        17:32:59   Log-Likelihood:                -34.325\n",
      "No. Observations:                  81   AIC:                             72.65\n",
      "Df Residuals:                      79   BIC:                             77.44\n",
      "Df Model:                           1                                         \n",
      "Covariance Type:            nonrobust                                         \n",
      "==============================================================================\n",
      "                 coef    std err          t      P>|t|      [0.025      0.975]\n",
      "------------------------------------------------------------------------------\n",
      "const         36.2103      0.309    117.123      0.000      35.595      36.826\n",
      "x1             3.0128      0.211     14.281      0.000       2.593       3.433\n",
      "==============================================================================\n",
      "Omnibus:                       10.043   Durbin-Watson:                   1.670\n",
      "Prob(Omnibus):                  0.007   Jarque-Bera (JB):                3.324\n",
      "Skew:                          -0.040   Prob(JB):                        0.190\n",
      "Kurtosis:                       2.011   Cond. No.                         15.9\n",
      "==============================================================================\n",
      "\n",
      "Notes:\n",
      "[1] Standard Errors assume that the covariance matrix of the errors is correctly specified.\n"
     ]
    }
   ],
   "source": [
    "X = sm.add_constant(X)\n",
    "results = sm.OLS(y,X).fit()\n",
    "print(results.summary())"
   ]
  },
  {
   "cell_type": "code",
   "execution_count": null,
   "id": "aad1f68f",
   "metadata": {},
   "outputs": [],
   "source": []
  },
  {
   "cell_type": "code",
   "execution_count": null,
   "id": "1c8012c4",
   "metadata": {},
   "outputs": [],
   "source": []
  },
  {
   "cell_type": "code",
   "execution_count": 145,
   "id": "3525a9e9",
   "metadata": {},
   "outputs": [],
   "source": [
    "# With linear algebra \n",
    "# numpy arrays"
   ]
  },
  {
   "cell_type": "code",
   "execution_count": 146,
   "id": "5aeff342",
   "metadata": {},
   "outputs": [],
   "source": [
    "N = X.shape[0]\n",
    "p = X.shape[1] + 1  # plus one because LinearRegression adds an intercept term\n",
    "\n",
    "X_with_intercept = np.empty(shape=(N, p), dtype=float)\n",
    "X_with_intercept[:, 0] = 1\n",
    "X_with_intercept[:, 1:p] = X"
   ]
  },
  {
   "cell_type": "code",
   "execution_count": 147,
   "id": "46cd836b",
   "metadata": {},
   "outputs": [
    {
     "name": "stdout",
     "output_type": "stream",
     "text": [
      "[36.21033354  3.01281231]\n"
     ]
    }
   ],
   "source": [
    "beta_hat = np.linalg.inv(X_with_intercept.T @ X_with_intercept) @ X_with_intercept.T @ y\n",
    "print(beta_hat)"
   ]
  },
  {
   "cell_type": "code",
   "execution_count": 148,
   "id": "c16539e6",
   "metadata": {},
   "outputs": [],
   "source": [
    "y_hat = beta_hat[0] + beta_hat[1]*X\n",
    "residuals = y - y_hat\n",
    "residual_sum_of_squares = residuals.T @ residuals"
   ]
  },
  {
   "cell_type": "code",
   "execution_count": 152,
   "id": "7d708a19",
   "metadata": {},
   "outputs": [
    {
     "name": "stdout",
     "output_type": "stream",
     "text": [
      "SE(beta_hat[0]): 0.6834221065095071\n",
      "SE(beta_hat[1]): 0.4663663883215362\n"
     ]
    }
   ],
   "source": [
    "sigma_squared_hat = residual_sum_of_squares[0, 0] / (N - p)\n",
    "var_beta_hat = np.linalg.inv(X_with_intercept.T @ X_with_intercept) * sigma_squared_hat\n",
    "for p_ in range(p):\n",
    "    standard_error = var_beta_hat[p_, p_] ** 0.5\n",
    "    print(f\"SE(beta_hat[{p_}]): {standard_error}\")"
   ]
  },
  {
   "cell_type": "markdown",
   "id": "be52dc6a",
   "metadata": {},
   "source": [
    "??"
   ]
  },
  {
   "cell_type": "code",
   "execution_count": 124,
   "id": "48d4b63b",
   "metadata": {},
   "outputs": [
    {
     "data": {
      "text/plain": [
       "LinearRegression()"
      ]
     },
     "execution_count": 124,
     "metadata": {},
     "output_type": "execute_result"
    }
   ],
   "source": [
    "X = pd.DataFrame(np.random.randn(1000,3), columns=['X1','X2','X3'])\n",
    "y = pd.DataFrame(np.random.randn(1000,1), columns=['Y'])        \n",
    "\n",
    "model = LinearRegression()\n",
    "model.fit(X=X, y=y)"
   ]
  },
  {
   "cell_type": "code",
   "execution_count": 125,
   "id": "17a74d7e",
   "metadata": {},
   "outputs": [
    {
     "data": {
      "image/png": "[encoded data removed]",
      "text/plain": [
       "<Figure size 432x288 with 1 Axes>"
      ]
     },
     "metadata": {
      "needs_background": "light"
     },
     "output_type": "display_data"
    }
   ],
   "source": [
    "for i in range(X.shape[1]):\n",
    "    plt.scatter(X.iloc[:,i],y)\n",
    "plt.show()"
   ]
  },
  {
   "cell_type": "code",
   "execution_count": 102,
   "id": "b1d8adce",
   "metadata": {},
   "outputs": [],
   "source": [
    "N = len(X)\n",
    "p = len(X.columns) + 1  # plus one because LinearRegression adds an intercept term"
   ]
  },
  {
   "cell_type": "code",
   "execution_count": 103,
   "id": "ee99b738",
   "metadata": {},
   "outputs": [],
   "source": [
    "X_with_intercept = np.empty(shape=(N, p), dtype=float)\n",
    "X_with_intercept[:, 0] = 1\n",
    "X_with_intercept[:, 1:p] = X.values"
   ]
  },
  {
   "cell_type": "code",
   "execution_count": 104,
   "id": "d0249fe0",
   "metadata": {},
   "outputs": [
    {
     "name": "stdout",
     "output_type": "stream",
     "text": [
      "[[ 0.14535439]\n",
      " [-0.04273738]\n",
      " [ 0.13531178]\n",
      " [-0.20566317]]\n"
     ]
    }
   ],
   "source": [
    "beta_hat = np.linalg.inv(X_with_intercept.T @ X_with_intercept) @ X_with_intercept.T @ y.values\n",
    "print(beta_hat)"
   ]
  },
  {
   "cell_type": "code",
   "execution_count": 105,
   "id": "59d47217",
   "metadata": {},
   "outputs": [
    {
     "name": "stdout",
     "output_type": "stream",
     "text": [
      "SE(beta_hat[0]): 0.6629828493155504\n",
      "SE(beta_hat[1]): 0.5190906163373692\n",
      "SE(beta_hat[2]): 0.5941937629410118\n",
      "SE(beta_hat[3]): 0.5361927749903787\n"
     ]
    }
   ],
   "source": [
    "y_hat = model.predict(X)\n",
    "residuals = y.values - y_hat\n",
    "residual_sum_of_squares = residuals.T @ residuals\n",
    "sigma_squared_hat = residual_sum_of_squares[0, 0] / (N - p)\n",
    "var_beta_hat = np.linalg.inv(X_with_intercept.T @ X_with_intercept) * sigma_squared_hat\n",
    "for p_ in range(p):\n",
    "    standard_error = var_beta_hat[p_, p_] ** 0.5\n",
    "    print(f\"SE(beta_hat[{p_}]): {standard_error}\")"
   ]
  },
  {
   "cell_type": "code",
   "execution_count": null,
   "id": "09921527",
   "metadata": {},
   "outputs": [],
   "source": []
  },
  {
   "cell_type": "code",
   "execution_count": null,
   "id": "41bc9f3b",
   "metadata": {},
   "outputs": [],
   "source": []
  }
 ],
 "metadata": {
  "kernelspec": {
   "display_name": "Python 3",
   "language": "python",
   "name": "python3"
  },
  "language_info": {
   "codemirror_mode": {
    "name": "ipython",
    "version": 3
   },
   "file_extension": ".py",
   "mimetype": "text/x-python",
   "name": "python",
   "nbconvert_exporter": "python",
   "pygments_lexer": "ipython3",
   "version": "3.7.4"
  }
 },
 "nbformat": 4,
 "nbformat_minor": 5
}
